{
 "cells": [
  {
   "cell_type": "code",
   "execution_count": 1,
   "metadata": {
    "_cell_guid": "b1076dfc-b9ad-4769-8c92-a6c4dae69d19",
    "_uuid": "8f2839f25d086af736a60e9eeb907d3b93b6e0e5"
   },
   "outputs": [
    {
     "name": "stdout",
     "output_type": "stream",
     "text": [
      "/kaggle/input/Kannada-MNIST/train.csv\n",
      "/kaggle/input/Kannada-MNIST/sample_submission.csv\n",
      "/kaggle/input/Kannada-MNIST/test.csv\n",
      "/kaggle/input/Kannada-MNIST/Dig-MNIST.csv\n"
     ]
    }
   ],
   "source": [
    "# This Python 3 environment comes with many helpful analytics libraries installed\n",
    "# It is defined by the kaggle/python docker image: https://github.com/kaggle/docker-python\n",
    "# For example, here's several helpful packages to load in \n",
    "\n",
    "import numpy as np # linear algebra\n",
    "import pandas as pd # data processing, CSV file I/O (e.g. pd.read_csv)\n",
    "import pandas as pd\n",
    "import xgboost as xgb\n",
    "from sklearn.model_selection import train_test_split\n",
    "\n",
    "# Input data files are available in the \"../input/\" directory.\n",
    "# For example, running this (by clicking run or pressing Shift+Enter) will list all files under the input directory\n",
    "\n",
    "import os\n",
    "for dirname, _, filenames in os.walk('/kaggle/input'):\n",
    "    for filename in filenames:\n",
    "        print(os.path.join(dirname, filename))\n",
    "\n",
    "# Any results you write to the current directory are saved as output."
   ]
  },
  {
   "cell_type": "code",
   "execution_count": 2,
   "metadata": {},
   "outputs": [],
   "source": [
    "train = pd.read_csv('../input/Kannada-MNIST/train.csv')\n",
    "test = pd.read_csv('../input/Kannada-MNIST/test.csv')\n",
    "sample_submission = pd.read_csv('../input/Kannada-MNIST/sample_submission.csv')\n",
    "col = ['pixel%d'%i for i in range(784)]"
   ]
  },
  {
   "cell_type": "code",
   "execution_count": 3,
   "metadata": {
    "_cell_guid": "79c7e3d0-c299-4dcb-8224-4455121ee9b0",
    "_uuid": "d629ff2d2480ee46fbb7e2d37f6b5fab8052498a"
   },
   "outputs": [
    {
     "name": "stderr",
     "output_type": "stream",
     "text": [
      "/opt/conda/lib/python3.6/site-packages/xgboost/core.py:587: FutureWarning: Series.base is deprecated and will be removed in a future version\n",
      "  if getattr(data, 'base', None) is not None and \\\n"
     ]
    }
   ],
   "source": [
    "X_train, X_val, Y_train, Y_val = train_test_split(train[col], train['label'], test_size=0.1)\n",
    "dtrain = xgb.DMatrix(X_train, label=Y_train)\n",
    "dval = xgb.DMatrix(X_val, label=Y_val)"
   ]
  },
  {
   "cell_type": "code",
   "execution_count": null,
   "metadata": {},
   "outputs": [],
   "source": []
  },
  {
   "cell_type": "code",
   "execution_count": 4,
   "metadata": {},
   "outputs": [
    {
     "name": "stdout",
     "output_type": "stream",
     "text": [
      "[0]\teval-mlogloss:2.09604\ttrain-mlogloss:2.08892\n",
      "Multiple eval metrics have been passed: 'train-mlogloss' will be used for early stopping.\n",
      "\n",
      "Will train until train-mlogloss hasn't improved in 20 rounds.\n",
      "[20]\teval-mlogloss:0.711389\ttrain-mlogloss:0.650586\n",
      "[40]\teval-mlogloss:0.333997\ttrain-mlogloss:0.266429\n",
      "[60]\teval-mlogloss:0.182456\ttrain-mlogloss:0.117609\n",
      "[80]\teval-mlogloss:0.115579\ttrain-mlogloss:0.055469\n",
      "[100]\teval-mlogloss:0.083826\ttrain-mlogloss:0.02809\n",
      "[120]\teval-mlogloss:0.067319\ttrain-mlogloss:0.015591\n",
      "[140]\teval-mlogloss:0.05823\ttrain-mlogloss:0.009563\n",
      "[160]\teval-mlogloss:0.052551\ttrain-mlogloss:0.006375\n",
      "[180]\teval-mlogloss:0.049167\ttrain-mlogloss:0.004564\n",
      "[200]\teval-mlogloss:0.046897\ttrain-mlogloss:0.003467\n",
      "[220]\teval-mlogloss:0.045312\ttrain-mlogloss:0.002761\n",
      "[240]\teval-mlogloss:0.04423\ttrain-mlogloss:0.002269\n",
      "[260]\teval-mlogloss:0.043331\ttrain-mlogloss:0.001922\n",
      "[280]\teval-mlogloss:0.042753\ttrain-mlogloss:0.001665\n",
      "[300]\teval-mlogloss:0.04214\ttrain-mlogloss:0.001467\n",
      "[320]\teval-mlogloss:0.041661\ttrain-mlogloss:0.001315\n",
      "[340]\teval-mlogloss:0.041266\ttrain-mlogloss:0.001191\n",
      "[360]\teval-mlogloss:0.040925\ttrain-mlogloss:0.00109\n",
      "[380]\teval-mlogloss:0.040575\ttrain-mlogloss:0.001007\n",
      "[400]\teval-mlogloss:0.04039\ttrain-mlogloss:0.000936\n",
      "[420]\teval-mlogloss:0.040241\ttrain-mlogloss:0.000876\n",
      "[440]\teval-mlogloss:0.040114\ttrain-mlogloss:0.000823\n",
      "[460]\teval-mlogloss:0.039934\ttrain-mlogloss:0.000777\n",
      "[480]\teval-mlogloss:0.039829\ttrain-mlogloss:0.000737\n",
      "[500]\teval-mlogloss:0.039672\ttrain-mlogloss:0.000702\n",
      "[520]\teval-mlogloss:0.039565\ttrain-mlogloss:0.000671\n",
      "[540]\teval-mlogloss:0.039566\ttrain-mlogloss:0.000643\n",
      "[560]\teval-mlogloss:0.039486\ttrain-mlogloss:0.000618\n",
      "[580]\teval-mlogloss:0.039447\ttrain-mlogloss:0.000595\n",
      "[600]\teval-mlogloss:0.039408\ttrain-mlogloss:0.000574\n",
      "[620]\teval-mlogloss:0.039296\ttrain-mlogloss:0.000555\n",
      "[640]\teval-mlogloss:0.039236\ttrain-mlogloss:0.000538\n",
      "[660]\teval-mlogloss:0.039189\ttrain-mlogloss:0.000522\n",
      "[680]\teval-mlogloss:0.039161\ttrain-mlogloss:0.000507\n",
      "[700]\teval-mlogloss:0.039121\ttrain-mlogloss:0.000493\n",
      "[720]\teval-mlogloss:0.039107\ttrain-mlogloss:0.00048\n",
      "[740]\teval-mlogloss:0.038994\ttrain-mlogloss:0.000468\n",
      "[760]\teval-mlogloss:0.038961\ttrain-mlogloss:0.000457\n",
      "[780]\teval-mlogloss:0.038922\ttrain-mlogloss:0.000446\n",
      "[800]\teval-mlogloss:0.038929\ttrain-mlogloss:0.000437\n",
      "[820]\teval-mlogloss:0.038909\ttrain-mlogloss:0.000427\n",
      "[840]\teval-mlogloss:0.038868\ttrain-mlogloss:0.000418\n",
      "[860]\teval-mlogloss:0.03884\ttrain-mlogloss:0.00041\n",
      "[880]\teval-mlogloss:0.038831\ttrain-mlogloss:0.000402\n",
      "[900]\teval-mlogloss:0.038818\ttrain-mlogloss:0.000395\n",
      "[920]\teval-mlogloss:0.038812\ttrain-mlogloss:0.000388\n",
      "[940]\teval-mlogloss:0.038765\ttrain-mlogloss:0.000381\n",
      "[960]\teval-mlogloss:0.03876\ttrain-mlogloss:0.000375\n",
      "[980]\teval-mlogloss:0.038746\ttrain-mlogloss:0.000369\n",
      "[1000]\teval-mlogloss:0.038713\ttrain-mlogloss:0.000363\n",
      "[1020]\teval-mlogloss:0.038735\ttrain-mlogloss:0.000358\n",
      "[1040]\teval-mlogloss:0.038715\ttrain-mlogloss:0.000352\n",
      "[1060]\teval-mlogloss:0.038725\ttrain-mlogloss:0.000348\n",
      "[1080]\teval-mlogloss:0.038698\ttrain-mlogloss:0.000343\n",
      "[1100]\teval-mlogloss:0.038706\ttrain-mlogloss:0.000338\n",
      "[1120]\teval-mlogloss:0.038687\ttrain-mlogloss:0.000334\n",
      "[1140]\teval-mlogloss:0.038632\ttrain-mlogloss:0.00033\n",
      "[1160]\teval-mlogloss:0.038651\ttrain-mlogloss:0.000326\n",
      "[1180]\teval-mlogloss:0.038664\ttrain-mlogloss:0.000322\n",
      "[1200]\teval-mlogloss:0.038713\ttrain-mlogloss:0.000318\n",
      "[1220]\teval-mlogloss:0.03875\ttrain-mlogloss:0.000314\n",
      "[1240]\teval-mlogloss:0.038756\ttrain-mlogloss:0.000311\n",
      "[1260]\teval-mlogloss:0.038739\ttrain-mlogloss:0.000307\n",
      "[1280]\teval-mlogloss:0.038718\ttrain-mlogloss:0.000304\n",
      "[1300]\teval-mlogloss:0.038701\ttrain-mlogloss:0.000301\n",
      "[1320]\teval-mlogloss:0.038694\ttrain-mlogloss:0.000298\n",
      "[1340]\teval-mlogloss:0.038736\ttrain-mlogloss:0.000295\n",
      "[1360]\teval-mlogloss:0.038746\ttrain-mlogloss:0.000292\n",
      "[1380]\teval-mlogloss:0.038781\ttrain-mlogloss:0.000289\n",
      "[1400]\teval-mlogloss:0.038773\ttrain-mlogloss:0.000287\n",
      "[1420]\teval-mlogloss:0.038781\ttrain-mlogloss:0.000284\n",
      "[1440]\teval-mlogloss:0.038762\ttrain-mlogloss:0.000282\n",
      "[1460]\teval-mlogloss:0.038782\ttrain-mlogloss:0.000279\n",
      "[1480]\teval-mlogloss:0.03878\ttrain-mlogloss:0.000277\n",
      "[1500]\teval-mlogloss:0.038788\ttrain-mlogloss:0.000274\n",
      "[1520]\teval-mlogloss:0.038794\ttrain-mlogloss:0.000272\n",
      "[1540]\teval-mlogloss:0.03878\ttrain-mlogloss:0.00027\n",
      "[1560]\teval-mlogloss:0.038766\ttrain-mlogloss:0.000268\n",
      "[1580]\teval-mlogloss:0.038789\ttrain-mlogloss:0.000266\n",
      "[1600]\teval-mlogloss:0.038816\ttrain-mlogloss:0.000264\n",
      "[1620]\teval-mlogloss:0.038815\ttrain-mlogloss:0.000262\n",
      "[1640]\teval-mlogloss:0.038835\ttrain-mlogloss:0.00026\n",
      "[1660]\teval-mlogloss:0.038819\ttrain-mlogloss:0.000258\n",
      "[1680]\teval-mlogloss:0.038837\ttrain-mlogloss:0.000256\n",
      "[1700]\teval-mlogloss:0.038819\ttrain-mlogloss:0.000254\n",
      "[1720]\teval-mlogloss:0.038832\ttrain-mlogloss:0.000253\n",
      "[1740]\teval-mlogloss:0.038835\ttrain-mlogloss:0.000251\n",
      "[1760]\teval-mlogloss:0.038856\ttrain-mlogloss:0.000249\n",
      "[1780]\teval-mlogloss:0.038873\ttrain-mlogloss:0.000248\n",
      "[1800]\teval-mlogloss:0.038871\ttrain-mlogloss:0.000246\n",
      "[1820]\teval-mlogloss:0.038858\ttrain-mlogloss:0.000245\n",
      "[1840]\teval-mlogloss:0.03885\ttrain-mlogloss:0.000243\n",
      "[1860]\teval-mlogloss:0.038847\ttrain-mlogloss:0.000242\n",
      "[1880]\teval-mlogloss:0.038851\ttrain-mlogloss:0.00024\n",
      "[1900]\teval-mlogloss:0.038881\ttrain-mlogloss:0.000239\n",
      "[1920]\teval-mlogloss:0.038885\ttrain-mlogloss:0.000238\n",
      "[1940]\teval-mlogloss:0.038887\ttrain-mlogloss:0.000236\n",
      "[1960]\teval-mlogloss:0.038894\ttrain-mlogloss:0.000235\n",
      "[1980]\teval-mlogloss:0.038861\ttrain-mlogloss:0.000234\n",
      "[2000]\teval-mlogloss:0.038847\ttrain-mlogloss:0.000233\n",
      "[2020]\teval-mlogloss:0.038853\ttrain-mlogloss:0.000231\n",
      "[2040]\teval-mlogloss:0.038841\ttrain-mlogloss:0.00023\n",
      "[2060]\teval-mlogloss:0.038845\ttrain-mlogloss:0.000229\n",
      "[2080]\teval-mlogloss:0.038843\ttrain-mlogloss:0.000228\n",
      "[2100]\teval-mlogloss:0.03883\ttrain-mlogloss:0.000227\n",
      "[2120]\teval-mlogloss:0.038823\ttrain-mlogloss:0.000226\n",
      "[2140]\teval-mlogloss:0.038812\ttrain-mlogloss:0.000225\n",
      "[2160]\teval-mlogloss:0.038816\ttrain-mlogloss:0.000224\n",
      "[2180]\teval-mlogloss:0.038828\ttrain-mlogloss:0.000223\n",
      "[2200]\teval-mlogloss:0.038832\ttrain-mlogloss:0.000222\n",
      "[2220]\teval-mlogloss:0.038831\ttrain-mlogloss:0.000221\n",
      "[2240]\teval-mlogloss:0.038855\ttrain-mlogloss:0.00022\n",
      "Stopping. Best iteration:\n",
      "[2221]\teval-mlogloss:0.038832\ttrain-mlogloss:0.00022\n",
      "\n"
     ]
    }
   ],
   "source": [
    "watchlist = [(dval, 'eval'), (dtrain, 'train')]\n",
    "\n",
    "xgb_params = {\n",
    "    \"objective\" : \"multi:softmax\",\n",
    "    \"eval_metric\" : \"mlogloss\",\n",
    "    \"num_class\" : 10,\n",
    "    \"max_depth\" : 12,\n",
    "    \"eta\" : 0.05,\n",
    "    \"subsample\" : 0.9,\n",
    "    \"colsample_bytree\" : 0.9,\n",
    "}\n",
    "\n",
    "xgb_clf = xgb.train(xgb_params, dtrain, 4000, \n",
    "                    watchlist, \n",
    "                    early_stopping_rounds=20, \n",
    "                    verbose_eval=20)"
   ]
  },
  {
   "cell_type": "code",
   "execution_count": 5,
   "metadata": {},
   "outputs": [],
   "source": [
    "res = xgb_clf.predict( xgb.DMatrix(test[col]) ).astype(int)"
   ]
  },
  {
   "cell_type": "code",
   "execution_count": 6,
   "metadata": {},
   "outputs": [],
   "source": [
    "sample_submission['label'] = res\n",
    "sample_submission.to_csv('submission.csv', index=False)"
   ]
  }
 ],
 "metadata": {
  "kernelspec": {
   "display_name": "Python 3",
   "language": "python",
   "name": "python3"
  },
  "language_info": {
   "codemirror_mode": {
    "name": "ipython",
    "version": 3
   },
   "file_extension": ".py",
   "mimetype": "text/x-python",
   "name": "python",
   "nbconvert_exporter": "python",
   "pygments_lexer": "ipython3",
   "version": "3.6.6"
  }
 },
 "nbformat": 4,
 "nbformat_minor": 1
}
